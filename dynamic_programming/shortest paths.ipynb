{
 "cells": [
  {
   "cell_type": "code",
   "execution_count": 239,
   "metadata": {},
   "outputs": [],
   "source": [
    "import re\n",
    "import numpy as np\n",
    "\n",
    "\n",
    "file = open(\"graph.txt\")\n",
    "graph = []\n",
    "for i in file:\n",
    "    entry = i.rstrip().split(sep=',')\n",
    "#     print(entry)\n",
    "    # process 'node0, node1 0.04, node8 11.11, node14 72.21'\n",
    "    # into dictionary in graph[0]\n",
    "    node_dict= {}\n",
    "    for i in range(1,len(entry)):\n",
    "#     print(entry[i])\n",
    "        m = re.search('(node\\d+) ([\\d\\.]+)', entry[i])\n",
    "        if m is not None:\n",
    "            node_dict[m.group(1)] = float(m.group(2))\n",
    "    graph.append(node_dict)"
   ]
  },
  {
   "cell_type": "code",
   "execution_count": 255,
   "metadata": {},
   "outputs": [
    {
     "data": {
      "text/plain": [
       "array([1.00000e+10, 1.00000e+10, 1.00000e+10, 1.00000e+10, 1.00000e+10,\n",
       "       1.00000e+10, 1.00000e+10, 1.00000e+10, 1.00000e+10, 1.00000e+10,\n",
       "       1.00000e+10, 1.00000e+10, 1.00000e+10, 1.00000e+10, 1.00000e+10,\n",
       "       1.00000e+10, 1.00000e+10, 1.00000e+10, 1.00000e+10, 1.00000e+10,\n",
       "       1.00000e+10, 1.00000e+10, 1.00000e+10, 1.00000e+10, 1.00000e+10,\n",
       "       1.00000e+10, 1.00000e+10, 1.00000e+10, 1.00000e+10, 1.00000e+10,\n",
       "       1.00000e+10, 1.00000e+10, 1.00000e+10, 1.00000e+10, 1.00000e+10,\n",
       "       1.00000e+10, 1.00000e+10, 1.00000e+10, 1.00000e+10, 1.00000e+10,\n",
       "       1.00000e+10, 1.00000e+10, 1.00000e+10, 1.00000e+10, 1.00000e+10,\n",
       "       1.00000e+10, 1.00000e+10, 1.00000e+10, 2.56412e+03, 1.00000e+10,\n",
       "       1.00000e+10, 1.00000e+10, 1.00000e+10, 1.00000e+10, 1.00000e+10,\n",
       "       1.00000e+10, 1.00000e+10, 1.00000e+10, 1.00000e+10, 1.00000e+10,\n",
       "       1.00000e+10, 1.00000e+10, 1.00000e+10, 1.00000e+10, 1.00000e+10,\n",
       "       1.00000e+10, 1.00000e+10, 1.00000e+10, 1.00000e+10, 2.47800e+02,\n",
       "       1.00000e+10, 1.00000e+10, 1.00000e+10, 1.00000e+10, 1.00000e+10,\n",
       "       1.00000e+10, 1.00000e+10, 1.00000e+10, 1.00000e+10, 1.00000e+10,\n",
       "       1.00000e+10, 1.00000e+10, 1.00000e+10, 1.00000e+10, 1.00000e+10,\n",
       "       1.00000e+10, 1.00000e+10, 1.00000e+10, 1.00000e+10, 8.21200e+01,\n",
       "       5.09900e+01, 1.00000e+10, 3.46800e+01, 3.27700e+01, 1.00000e+10,\n",
       "       2.70000e-01, 5.87000e+00, 1.00000e+10, 3.30000e-01, 0.00000e+00])"
      ]
     },
     "execution_count": 255,
     "metadata": {},
     "output_type": "execute_result"
    }
   ],
   "source": [
    "aa = J.copy()\n",
    "aa"
   ]
  },
  {
   "cell_type": "code",
   "execution_count": 278,
   "metadata": {},
   "outputs": [],
   "source": [
    "M = 1e10\n",
    "lastnode = 99\n",
    "\n",
    "J = np.full(len(graph), M)\n",
    "J[lastnode] = 0\n",
    "\n",
    "\n",
    "\n",
    "\n",
    "while True:\n",
    "    old_J = J.copy() \n",
    "    for i,val in enumerate(J):\n",
    "        if i != lastnode:\n",
    "            next_J = J[i]\n",
    "            for key,value in graph[i].items():\n",
    "                reachable_point = int(re.search(\"node(.*)\",key).group(1))\n",
    "                next_J = min(value + J[reachable_point], next_J)\n",
    "#             print(i, next_J)\n",
    "            J[i] = next_J\n",
    "\n",
    "    if all(old_J == J): \n",
    "        break\n"
   ]
  },
  {
   "cell_type": "code",
   "execution_count": 279,
   "metadata": {},
   "outputs": [
    {
     "data": {
      "text/plain": [
       "array([160.55, 162.26,  88.52, 143.73, 145.12])"
      ]
     },
     "execution_count": 279,
     "metadata": {},
     "output_type": "execute_result"
    }
   ],
   "source": [
    "J[0:5]"
   ]
  },
  {
   "cell_type": "code",
   "execution_count": 280,
   "metadata": {},
   "outputs": [
    {
     "data": {
      "text/plain": [
       "array([0.27, 1.06, 0.63, 0.33, 0.  ])"
      ]
     },
     "execution_count": 280,
     "metadata": {},
     "output_type": "execute_result"
    }
   ],
   "source": [
    "J[95:]"
   ]
  }
 ],
 "metadata": {
  "kernelspec": {
   "display_name": "Python 3",
   "language": "python",
   "name": "python3"
  },
  "language_info": {
   "codemirror_mode": {
    "name": "ipython",
    "version": 3
   },
   "file_extension": ".py",
   "mimetype": "text/x-python",
   "name": "python",
   "nbconvert_exporter": "python",
   "pygments_lexer": "ipython3",
   "version": "3.7.1"
  }
 },
 "nbformat": 4,
 "nbformat_minor": 2
}
