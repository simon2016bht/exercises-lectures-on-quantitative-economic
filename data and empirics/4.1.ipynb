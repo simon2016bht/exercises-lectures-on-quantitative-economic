{
 "cells": [
  {
   "cell_type": "code",
   "execution_count": 2,
   "metadata": {},
   "outputs": [],
   "source": [
    "import matplotlib.pyplot as plt \n",
    "import requests \n",
    "import pandas as pd \n",
    "\n",
    "\n",
    "ticker_list = {'INTC': 'Intel', 'MSFT': 'Microsoft', 'IBM': 'IBM', 'BHP': 'BHP', 'TM': 'Toyota', 'AAPL': 'Apple', 'AMZN': 'Amazon', 'BA': 'Boeing', 'QCOM': 'Qualcomm','KO': 'Coca-Cola', 'GOOG': 'Google', 'SNE': 'Sony', 'PTR': 'PetroChina'}"
   ]
  },
  {
   "cell_type": "code",
   "execution_count": 3,
   "metadata": {},
   "outputs": [],
   "source": [
    "data = pd.read_csv('ticker_data.csv')"
   ]
  },
  {
   "cell_type": "code",
   "execution_count": 4,
   "metadata": {},
   "outputs": [],
   "source": [
    "data = data.iloc[[0,-1],:]"
   ]
  },
  {
   "cell_type": "code",
   "execution_count": 5,
   "metadata": {},
   "outputs": [
    {
     "data": {
      "text/html": [
       "<div>\n",
       "<style scoped>\n",
       "    .dataframe tbody tr th:only-of-type {\n",
       "        vertical-align: middle;\n",
       "    }\n",
       "\n",
       "    .dataframe tbody tr th {\n",
       "        vertical-align: top;\n",
       "    }\n",
       "\n",
       "    .dataframe thead th {\n",
       "        text-align: right;\n",
       "    }\n",
       "</style>\n",
       "<table border=\"1\" class=\"dataframe\">\n",
       "  <thead>\n",
       "    <tr style=\"text-align: right;\">\n",
       "      <th></th>\n",
       "      <th>Date</th>\n",
       "      <th>INTC</th>\n",
       "      <th>MSFT</th>\n",
       "      <th>IBM</th>\n",
       "      <th>BHP</th>\n",
       "      <th>TM</th>\n",
       "      <th>AAPL</th>\n",
       "      <th>AMZN</th>\n",
       "      <th>BA</th>\n",
       "      <th>QCOM</th>\n",
       "      <th>KO</th>\n",
       "      <th>GOOG</th>\n",
       "      <th>SNE</th>\n",
       "      <th>PTR</th>\n",
       "    </tr>\n",
       "  </thead>\n",
       "  <tbody>\n",
       "    <tr>\n",
       "      <th>0</th>\n",
       "      <td>2013-01-02</td>\n",
       "      <td>21.379999</td>\n",
       "      <td>27.620001</td>\n",
       "      <td>196.350006</td>\n",
       "      <td>79.930000</td>\n",
       "      <td>95.989998</td>\n",
       "      <td>549.029976</td>\n",
       "      <td>257.309998</td>\n",
       "      <td>77.070000</td>\n",
       "      <td>64.75</td>\n",
       "      <td>37.599998</td>\n",
       "      <td>723.251230</td>\n",
       "      <td>11.510000</td>\n",
       "      <td>145.789993</td>\n",
       "    </tr>\n",
       "    <tr>\n",
       "      <th>251</th>\n",
       "      <td>2013-12-31</td>\n",
       "      <td>25.959999</td>\n",
       "      <td>37.410000</td>\n",
       "      <td>187.570007</td>\n",
       "      <td>68.199997</td>\n",
       "      <td>121.919998</td>\n",
       "      <td>561.019997</td>\n",
       "      <td>398.790009</td>\n",
       "      <td>136.490005</td>\n",
       "      <td>74.25</td>\n",
       "      <td>41.310001</td>\n",
       "      <td>1120.711956</td>\n",
       "      <td>17.290001</td>\n",
       "      <td>109.739998</td>\n",
       "    </tr>\n",
       "  </tbody>\n",
       "</table>\n",
       "</div>"
      ],
      "text/plain": [
       "           Date       INTC       MSFT         IBM        BHP          TM  \\\n",
       "0    2013-01-02  21.379999  27.620001  196.350006  79.930000   95.989998   \n",
       "251  2013-12-31  25.959999  37.410000  187.570007  68.199997  121.919998   \n",
       "\n",
       "           AAPL        AMZN          BA   QCOM         KO         GOOG  \\\n",
       "0    549.029976  257.309998   77.070000  64.75  37.599998   723.251230   \n",
       "251  561.019997  398.790009  136.490005  74.25  41.310001  1120.711956   \n",
       "\n",
       "           SNE         PTR  \n",
       "0    11.510000  145.789993  \n",
       "251  17.290001  109.739998  "
      ]
     },
     "execution_count": 5,
     "metadata": {},
     "output_type": "execute_result"
    }
   ],
   "source": [
    "data.tail()"
   ]
  },
  {
   "cell_type": "code",
   "execution_count": 10,
   "metadata": {},
   "outputs": [],
   "source": [
    "ns = (data.iloc[1,1:] - data.iloc[0,1:]) / data.iloc[0,1:] * 100"
   ]
  },
  {
   "cell_type": "code",
   "execution_count": 15,
   "metadata": {},
   "outputs": [],
   "source": [
    "ns.name = 'percent_diff'"
   ]
  },
  {
   "cell_type": "code",
   "execution_count": 17,
   "metadata": {},
   "outputs": [],
   "source": [
    "data = data.append(ns)"
   ]
  },
  {
   "cell_type": "code",
   "execution_count": 18,
   "metadata": {},
   "outputs": [],
   "source": [
    "list = data.columns.tolist()\n"
   ]
  },
  {
   "cell_type": "code",
   "execution_count": 19,
   "metadata": {},
   "outputs": [
    {
     "name": "stdout",
     "output_type": "stream",
     "text": [
      "Intel\n",
      "Microsoft\n",
      "IBM\n",
      "BHP\n",
      "Toyota\n",
      "Apple\n",
      "Amazon\n",
      "Boeing\n",
      "Qualcomm\n",
      "Coca-Cola\n",
      "Google\n",
      "Sony\n",
      "PetroChina\n"
     ]
    }
   ],
   "source": [
    "for i,company_name in enumerate(list):\n",
    "    if company_name in ticker_list: \n",
    "        list[i] = ticker_list[company_name]\n",
    "        print(ticker_list[company_name])"
   ]
  },
  {
   "cell_type": "code",
   "execution_count": 6,
   "metadata": {},
   "outputs": [],
   "source": [
    "data.columns = list\n"
   ]
  },
  {
   "cell_type": "code",
   "execution_count": null,
   "metadata": {},
   "outputs": [],
   "source": [
    "data.plot(colormap=)"
   ]
  },
  {
   "cell_type": "code",
   "execution_count": 28,
   "metadata": {},
   "outputs": [
    {
     "data": {
      "text/plain": [
       "<matplotlib.axes._subplots.AxesSubplot at 0x7f8085f43f98>"
      ]
     },
     "execution_count": 28,
     "metadata": {},
     "output_type": "execute_result"
    },
    {
     "data": {
      "image/png": "[encoded data removed]",
      "text/plain": [
       "<Figure size 432x288 with 1 Axes>"
      ]
     },
     "metadata": {},
     "output_type": "display_data"
    }
   ],
   "source": [
    "data.iloc[2,1:].sort_values().plot(kind='bar', colormap='ocean')"
   ]
  }
 ],
 "metadata": {
  "kernelspec": {
   "display_name": "Python 3",
   "language": "python",
   "name": "python3"
  },
  "language_info": {
   "codemirror_mode": {
    "name": "ipython",
    "version": 3
   },
   "file_extension": ".py",
   "mimetype": "text/x-python",
   "name": "python",
   "nbconvert_exporter": "python",
   "pygments_lexer": "ipython3",
   "version": "3.6.5"
  }
 },
 "nbformat": 4,
 "nbformat_minor": 2
}
