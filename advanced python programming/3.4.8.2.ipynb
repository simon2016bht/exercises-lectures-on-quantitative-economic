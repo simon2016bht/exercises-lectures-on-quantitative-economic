{
 "cells": [
  {
   "cell_type": "code",
   "execution_count": 24,
   "metadata": {},
   "outputs": [
    {
     "name": "stdout",
     "output_type": "stream",
     "text": [
      "Date\n",
      "2009-05-21\n",
      "2009-05-20\n",
      "2009-05-19\n",
      "2009-05-18\n",
      "2009-05-15\n",
      "2009-05-14\n",
      "2009-05-13\n",
      "2009-05-12\n",
      "2009-05-11\n"
     ]
    }
   ],
   "source": [
    "import re\n",
    "def column_iterator(target_file, column_number):\n",
    "    \"\"\"\n",
    "    A generator function for CSV files. \n",
    "    When called with a file name target_file (string) and column number column_number (integer), \n",
    "    the generator function returns a generator that steps through the elements of column column_number in file target_file. \n",
    "    \"\"\" \n",
    "    file = open(target_file)\n",
    "    \n",
    "    for i in file:\n",
    "        row_contents = re.split(',',i)\n",
    "        yield row_contents[column_number-1]\n",
    "    file.close()\n",
    "        \n",
    "dates = column_iterator('test_table.csv', 1) \n",
    "for date in dates: print(date)"
   ]
  },
  {
   "cell_type": "code",
   "execution_count": null,
   "metadata": {},
   "outputs": [],
   "source": []
  }
 ],
 "metadata": {
  "kernelspec": {
   "display_name": "Python 3",
   "language": "python",
   "name": "python3"
  },
  "language_info": {
   "codemirror_mode": {
    "name": "ipython",
    "version": 3
   },
   "file_extension": ".py",
   "mimetype": "text/x-python",
   "name": "python",
   "nbconvert_exporter": "python",
   "pygments_lexer": "ipython3",
   "version": "3.6.5"
  }
 },
 "nbformat": 4,
 "nbformat_minor": 2
}
