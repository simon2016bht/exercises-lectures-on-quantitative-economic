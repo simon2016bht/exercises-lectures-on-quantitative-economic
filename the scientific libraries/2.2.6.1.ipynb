{
 "cells": [
  {
   "cell_type": "code",
   "execution_count": 1,
   "metadata": {},
   "outputs": [],
   "source": [
    "import numpy as np\n",
    "\n",
    "import matplotlib.pyplot as plt"
   ]
  },
  {
   "cell_type": "code",
   "execution_count": 2,
   "metadata": {},
   "outputs": [],
   "source": [
    "def bisect(f, a, b, tol=10e-5): \n",
    "    \"\"\"\n",
    "    Implements the bisection root finding algorithm, \n",
    "    assuming that f is a real-valued function on [a, b] satisfying f(a) < 0 < f(b). \n",
    "    \"\"\" \n",
    "    lower, upper = a, b \n",
    "    \n",
    "    while upper - lower > tol: \n",
    "        middle = 0.5 * (upper + lower) \n",
    "        # === if root is between lower and middle === # \n",
    "        if f(middle) > 0: \n",
    "            lower, upper = lower, middle\n",
    "        # === if root is between middle and upper === # \n",
    "        else: \n",
    "            lower, upper = middle, upper \n",
    "    return 0.5 * (upper + lower)\n",
    "        "
   ]
  },
  {
   "cell_type": "code",
   "execution_count": 3,
   "metadata": {},
   "outputs": [
    {
     "data": {
      "text/plain": [
       "0.408294677734375"
      ]
     },
     "execution_count": 3,
     "metadata": {},
     "output_type": "execute_result"
    }
   ],
   "source": [
    "f = lambda x: np.sin(4 * (x - 0.25)) + x + x**20 - 1\n",
    "bisect(f, 0, 1)"
   ]
  },
  {
   "cell_type": "code",
   "execution_count": 4,
   "metadata": {},
   "outputs": [],
   "source": [
    "def bisect_recursive2(f, lower, upper, tol=10e-5):\n",
    "    #lower, upper = a, b\n",
    "    print(lower, upper)\n",
    "    middle = 0.5 * (lower + upper)\n",
    "    if f(middle) > 0: \n",
    "        lower, upper = lower, middle\n",
    "    else: \n",
    "        lower, upper = middle, upper\n",
    "        \n",
    "    if upper - lower > tol:    \n",
    "        return bisect_recursive2(f, lower, upper)\n",
    "    else:\n",
    "        print(\"\\nans: \",0.5 * (upper + lower), f(middle))\n",
    "        return middle\n",
    "    "
   ]
  },
  {
   "cell_type": "code",
   "execution_count": 5,
   "metadata": {},
   "outputs": [
    {
     "name": "stdout",
     "output_type": "stream",
     "text": [
      "0 1\n",
      "0 0.5\n",
      "0.25 0.5\n",
      "0.375 0.5\n",
      "0.375 0.4375\n",
      "0.40625 0.4375\n",
      "0.40625 0.421875\n",
      "0.40625 0.4140625\n",
      "0.40625 0.41015625\n",
      "0.408203125 0.41015625\n",
      "0.408203125 0.4091796875\n",
      "0.408203125 0.40869140625\n",
      "0.408203125 0.408447265625\n",
      "0.408203125 0.4083251953125\n",
      "\n",
      "ans:  0.408294677734375 -0.0001239716912944111\n"
     ]
    },
    {
     "data": {
      "text/plain": [
       "0.40826416015625"
      ]
     },
     "execution_count": 5,
     "metadata": {},
     "output_type": "execute_result"
    }
   ],
   "source": [
    "bisect_recursive2(f, 0, 1)"
   ]
  },
  {
   "cell_type": "code",
   "execution_count": null,
   "metadata": {},
   "outputs": [],
   "source": []
  }
 ],
 "metadata": {
  "kernelspec": {
   "display_name": "Python 3",
   "language": "python",
   "name": "python3"
  },
  "language_info": {
   "codemirror_mode": {
    "name": "ipython",
    "version": 3
   },
   "file_extension": ".py",
   "mimetype": "text/x-python",
   "name": "python",
   "nbconvert_exporter": "python",
   "pygments_lexer": "ipython3",
   "version": "3.6.5"
  }
 },
 "nbformat": 4,
 "nbformat_minor": 2
}
