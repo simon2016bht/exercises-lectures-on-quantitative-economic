{
 "cells": [
  {
   "cell_type": "markdown",
   "metadata": {},
   "source": [
    "### Consider the polynomial expression ∑N p(x) = a0 + a1 x + a2 x2 + · · · aN xN = an x n (2.1) n=0 \n",
    "\n",
    "Earlier, you wrote a simple function p(x, coeff) to evaluate (2.1) without considering efficiency Now write a new function that does the same job, but uses NumPy arrays and array operations for its computations, rather than any form of Python loop (Such functionality is already implemented as np.poly1d, but for the sake of the exercise dont use this class) \n",
    "\n",
    "• Hint: Use np.cumprod()"
   ]
  },
  {
   "cell_type": "code",
   "execution_count": 55,
   "metadata": {},
   "outputs": [],
   "source": [
    "import numpy as np\n",
    "\n",
    "coefficient = [100,10,1,5] # a0,a1,a2,a3\n",
    "x = 2"
   ]
  },
  {
   "cell_type": "code",
   "execution_count": 56,
   "metadata": {},
   "outputs": [
    {
     "data": {
      "text/plain": [
       "164"
      ]
     },
     "execution_count": 56,
     "metadata": {},
     "output_type": "execute_result"
    }
   ],
   "source": [
    "terms = np.full_like(coefficient,x)\n",
    "terms[0] = 1\n",
    "high_terms = np.cumprod(terms)\n",
    "sum(coefficient * high_terms)"
   ]
  },
  {
   "cell_type": "code",
   "execution_count": 108,
   "metadata": {},
   "outputs": [
    {
     "data": {
      "text/plain": [
       "164"
      ]
     },
     "execution_count": 108,
     "metadata": {},
     "output_type": "execute_result"
    }
   ],
   "source": [
    "p = np.poly1d(coefficient[::-1])\n",
    "p(x)"
   ]
  },
  {
   "cell_type": "code",
   "execution_count": null,
   "metadata": {},
   "outputs": [],
   "source": []
  }
 ],
 "metadata": {
  "kernelspec": {
   "display_name": "Python 3",
   "language": "python",
   "name": "python3"
  },
  "language_info": {
   "codemirror_mode": {
    "name": "ipython",
    "version": 3
   },
   "file_extension": ".py",
   "mimetype": "text/x-python",
   "name": "python",
   "nbconvert_exporter": "python",
   "pygments_lexer": "ipython3",
   "version": "3.6.5"
  }
 },
 "nbformat": 4,
 "nbformat_minor": 2
}
