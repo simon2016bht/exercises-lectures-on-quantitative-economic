{
 "cells": [
  {
   "cell_type": "markdown",
   "metadata": {},
   "source": [
    "#### Write a program that prints one realization of the following random device: • Flip an unbiased coin 10 times • If 3 consecutive heads occur one or more times within this sequence, pay one dollar • If not, pay nothing Use no import besides from numpy.random import uniform"
   ]
  },
  {
   "cell_type": "code",
   "execution_count": 65,
   "metadata": {},
   "outputs": [
    {
     "name": "stdout",
     "output_type": "stream",
     "text": [
      "# 1 , curr_head =  True ,straight_head =  1\n",
      "# 2 , curr_head =  True ,straight_head =  2\n",
      "# 3 , curr_head =  False ,straight_head =  0\n",
      "# 4 , curr_head =  False ,straight_head =  0\n",
      "# 5 , curr_head =  False ,straight_head =  0\n",
      "# 6 , curr_head =  True ,straight_head =  1\n",
      "# 7 , curr_head =  True ,straight_head =  2\n",
      "# 8 , curr_head =  True ,straight_head =  3\n",
      "# 9 , curr_head =  True ,straight_head =  4\n",
      "# 10 , curr_head =  True ,straight_head =  5\n",
      "\n",
      "-> pay =  True\n"
     ]
    }
   ],
   "source": [
    "from numpy.random import uniform\n",
    "\n",
    "pay = False\n",
    "straight_head = 0\n",
    "for i in range(10):\n",
    "    val = uniform()\n",
    "    if val>0.5:\n",
    "        curr_head = True\n",
    "        straight_head +=1\n",
    "    else:\n",
    "        curr_head = False\n",
    "        straight_head = 0\n",
    "    if straight_head >=3:\n",
    "        pay = True\n",
    "    print(\"#\", i+1,\", curr_head = \", curr_head, \",straight_head = \", straight_head)\n",
    "print(\"\\n-> pay = \", pay)\n",
    "    "
   ]
  },
  {
   "cell_type": "code",
   "execution_count": null,
   "metadata": {},
   "outputs": [],
   "source": []
  }
 ],
 "metadata": {
  "kernelspec": {
   "display_name": "Python 3",
   "language": "python",
   "name": "python3"
  },
  "language_info": {
   "codemirror_mode": {
    "name": "ipython",
    "version": 3
   },
   "file_extension": ".py",
   "mimetype": "text/x-python",
   "name": "python",
   "nbconvert_exporter": "python",
   "pygments_lexer": "ipython3",
   "version": "3.6.5"
  }
 },
 "nbformat": 4,
 "nbformat_minor": 2
}
