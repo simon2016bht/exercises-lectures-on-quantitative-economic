{
 "cells": [
  {
   "cell_type": "markdown",
   "metadata": {},
   "source": [
    "#### Consider the polynomial ∑n p(x) = a0 + a1 x + a2 x2 + · · · an xn = ai x i (1.1) i=0 \n",
    "#### Write a function p such that p(x, coeff) that computes the value in (1.1) given a point x and a list of coefficients coeff Try to use enumerate() in your loop"
   ]
  },
  {
   "cell_type": "code",
   "execution_count": 7,
   "metadata": {},
   "outputs": [
    {
     "name": "stdout",
     "output_type": "stream",
     "text": [
      "i =  0\n",
      "x**i =  1\n",
      "ai =  1\n",
      "\n",
      "i =  1\n",
      "x**i =  2\n",
      "ai =  2\n",
      "\n",
      "i =  2\n",
      "x**i =  4\n",
      "ai =  3\n",
      "\n",
      "i =  3\n",
      "x**i =  8\n",
      "ai =  1\n",
      "\n",
      "i =  4\n",
      "x**i =  16\n",
      "ai =  2\n",
      "\n"
     ]
    },
    {
     "data": {
      "text/plain": [
       "57"
      ]
     },
     "execution_count": 7,
     "metadata": {},
     "output_type": "execute_result"
    }
   ],
   "source": [
    "def p(x,coeff):\n",
    "    p = 0\n",
    "    for i,ai in enumerate(coeff):\n",
    "        print(\"i = \",i)\n",
    "        print(\"x**i = \", x**i)\n",
    "        print(\"ai = \", ai)\n",
    "        \n",
    "        p += ai * x**i\n",
    "        print()\n",
    "    return p\n",
    "\n",
    "p(2,(1,2,3,1,2))"
   ]
  },
  {
   "cell_type": "code",
   "execution_count": null,
   "metadata": {},
   "outputs": [],
   "source": []
  }
 ],
 "metadata": {
  "kernelspec": {
   "display_name": "Python 3",
   "language": "python",
   "name": "python3"
  },
  "language_info": {
   "codemirror_mode": {
    "name": "ipython",
    "version": 3
   },
   "file_extension": ".py",
   "mimetype": "text/x-python",
   "name": "python",
   "nbconvert_exporter": "python",
   "pygments_lexer": "ipython3",
   "version": "3.6.5"
  }
 },
 "nbformat": 4,
 "nbformat_minor": 2
}
