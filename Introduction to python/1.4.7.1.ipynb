{
 "cells": [
  {
   "cell_type": "markdown",
   "metadata": {},
   "source": [
    "#### Part 1: Given two numeric lists or tuples x_vals and y_vals of equal length, compute their inner product using zip() \n",
    "\n",
    "#### Part 2: In one line, count the number of even numbers in 0,,99 • Hint: x % 2 returns 0 if x is even, 1 otherwise \n",
    "\n",
    "#### Part 3: Given pairs = ((2, 5), (4, 2), (9, 8), (12, 10)), count the number of pairs (a, b) such that both a and b are even"
   ]
  },
  {
   "cell_type": "code",
   "execution_count": 17,
   "metadata": {},
   "outputs": [
    {
     "name": "stdout",
     "output_type": "stream",
     "text": [
      "x = 1 ,y = 2 ,x*y = 2\n",
      "x = 1 ,y = 2 ,x*y = 2\n",
      "x = 1 ,y = 6 ,x*y = 6\n"
     ]
    },
    {
     "data": {
      "text/plain": [
       "10"
      ]
     },
     "execution_count": 17,
     "metadata": {},
     "output_type": "execute_result"
    }
   ],
   "source": [
    "x_vals = [1,1,1]\n",
    "y_vals = [2,2,6]\n",
    "inner_prod = 0\n",
    "for x,y in zip(x_vals, y_vals):\n",
    "    print('x =',x,',y =',y,',x*y =',x*y)\n",
    "    inner_prod += x*y\n",
    "inner_prod"
   ]
  },
  {
   "cell_type": "code",
   "execution_count": 114,
   "metadata": {},
   "outputs": [
    {
     "data": {
      "text/plain": [
       "50"
      ]
     },
     "execution_count": 114,
     "metadata": {},
     "output_type": "execute_result"
    }
   ],
   "source": [
    "sum([(i+1)%2  for i in range(0,100)])"
   ]
  },
  {
   "cell_type": "code",
   "execution_count": 116,
   "metadata": {},
   "outputs": [],
   "source": [
    "pairs = ((2, 5), (4, 2), (9, 8), (12, 10))"
   ]
  },
  {
   "cell_type": "code",
   "execution_count": 133,
   "metadata": {},
   "outputs": [
    {
     "data": {
      "text/plain": [
       "2"
      ]
     },
     "execution_count": 133,
     "metadata": {},
     "output_type": "execute_result"
    }
   ],
   "source": [
    "is_even = lambda x: (x+1)%2\n",
    "count = 0\n",
    "for i,j in pairs:\n",
    "    #print(i, j)\n",
    "    #print(\"even_even\") if is_even(i) and is_even(j)  else print(\"\")\n",
    "    count +=1 if is_even(i) and is_even(j)  else 0\n",
    "count"
   ]
  },
  {
   "cell_type": "code",
   "execution_count": null,
   "metadata": {},
   "outputs": [],
   "source": []
  }
 ],
 "metadata": {
  "kernelspec": {
   "display_name": "Python 3",
   "language": "python",
   "name": "python3"
  },
  "language_info": {
   "codemirror_mode": {
    "name": "ipython",
    "version": 3
   },
   "file_extension": ".py",
   "mimetype": "text/x-python",
   "name": "python",
   "nbconvert_exporter": "python",
   "pygments_lexer": "ipython3",
   "version": "3.6.5"
  }
 },
 "nbformat": 4,
 "nbformat_minor": 2
}
