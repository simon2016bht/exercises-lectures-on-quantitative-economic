{
 "cells": [
  {
   "cell_type": "markdown",
   "metadata": {},
   "source": [
    "#### Compute an approximation to π using Monte Carlo. Use no imports besides import numpy as np Your hints are as follows: • If U is a bivariate uniform random variable on the unit square (0, 1)2 , then the probability that U lies in a subset B of (0, 1)2 is equal to the area of B • If U1 , . . . , Un are iid copies of U , then, as n gets large, the fraction that fall in B converges to the probability of landing in B • For a circle, area = pi * radius^2"
   ]
  },
  {
   "cell_type": "code",
   "execution_count": 151,
   "metadata": {},
   "outputs": [
    {
     "data": {
      "text/plain": [
       "3.14844"
      ]
     },
     "execution_count": 151,
     "metadata": {},
     "output_type": "execute_result"
    }
   ],
   "source": [
    "import numpy as np\n",
    "r = 0.5\n",
    "n = 100000\n",
    "count = 0\n",
    "for i in range(n):\n",
    "    x = np.random.uniform() - 0.5\n",
    "    y = np.random.uniform() - 0.5\n",
    "    if ((x**2+y**2)**0.5) < r:\n",
    "        count += 1\n",
    "area = count / n\n",
    "pi = area / r**2 \n",
    "pi"
   ]
  }
 ],
 "metadata": {
  "kernelspec": {
   "display_name": "Python 3",
   "language": "python",
   "name": "python3"
  },
  "language_info": {
   "codemirror_mode": {
    "name": "ipython",
    "version": 3
   },
   "file_extension": ".py",
   "mimetype": "text/x-python",
   "name": "python",
   "nbconvert_exporter": "python",
   "pygments_lexer": "ipython3",
   "version": "3.6.5"
  }
 },
 "nbformat": 4,
 "nbformat_minor": 2
}
